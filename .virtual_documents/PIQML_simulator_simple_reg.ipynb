


import numpy as np
import torch
import torch.nn as nn
import matplotlib.pyplot as plt
import pandas as pd

from data import harmonic_oscillator_solution
from lossfn import mse, boundary_loss, physics_loss, physics_loss_imp
from model import Hybrid_QN
from utils import draw_circuit, WeightClipper
from CONFIG import OSCILLATION_PARAMS

import pennylane as qml

from IPython.display import clear_output
from utils import backend_check

import copy


torch.manual_seed(123)
n_qubits = 6
n_layers = 5
n_input = 1
n_output = 1

torch_device = backend_check()
q_device = qml.device("default.qubit.torch", wires=n_qubits, torch_device = "cuda:0" if torch.backends.cuda.is_built() else "cpu")

path = "./plots/PIQML_simple1"


import os
if not os.path.exists(path):
    os.makedirs(path)





# Full dataset
PARAMS_CONFIG = OSCILLATION_PARAMS[1]

d = PARAMS_CONFIG['d']
w0 = PARAMS_CONFIG['w0']

data = pd.read_csv(f'./time-oscillation-d{d}-w0{w0}.csv', dtype=np.float32)

t_true = torch.linspace(0,1,500).view(-1,1)
obs_true = harmonic_oscillator_solution(d, w0, t_true)

t_data = torch.tensor(data['t'].values).view(-1,1)
obs_data = torch.tensor(data['observation'].values).view(-1,1)

plt.figure(figsize=(8,4))
plt.plot(t_true, obs_true, color="tab:grey", alpha=0.6, label="Exact solution")
plt.scatter(t_data, obs_data, label="Full dataset")
plt.legend()
plt.show()





total = 100
percentage = 55

t_true = torch.linspace(0,1,500).view(-1,1)[:int(np.ceil(total/100*500))]
obs_true = harmonic_oscillator_solution(d, w0, t_true)

t_data = torch.tensor(data['t'].values)[:int(np.ceil(percentage/100*len(data)))][::5].view(-1,1)
obs_data = torch.tensor(data['observation'].values)[:int(np.ceil(percentage/100*len(data)))][::5].view(-1,1)

plt.figure(figsize=(8,4))
plt.plot(t_true, obs_true, color="tab:grey", alpha=0.6, label="Exact solution")
plt.scatter(t_data, obs_data, label="Training data")
plt.legend()
plt.show()








# qmodel = FCN(N_INPUT=1, N_OUTPUT=1, N_HIDDEN=32, N_LAYERS=3)
qmodel = Hybrid_QN(Q_DEVICE=q_device, INPUT_DIM=n_input, OUTPUT_DIM=n_output, N_QUBITS=n_qubits, N_LAYERS=n_layers, ROTATION='Rxyz').to(torch_device)
# qmodel = Pure_QN(qlayer)


# For initial condition loss
t_initial_grad = torch.tensor(0.).view(-1,1).requires_grad_(True)

t_data_grad = t_data.requires_grad_(True).to(torch_device)

t_true_grad = t_true.requires_grad_(True).to(torch_device)

obs_data_device = obs_data.to(torch_device)

# d   as above
# w0  as above
# mu = 2*d  missing
k = w0**2

mu = torch.nn.Parameter(torch.zeros(1, requires_grad=True, device=torch_device)) # mu is missing, let's train it!
all_mus = []
all_loss =[]

learning_rate=1e-2
optimiser = torch.optim.Adam(list(qmodel.parameters()) + [mu], lr=learning_rate)

# weighting the loss functions, see block below
lambda1, lambda2, lambda3, lambda4 = 1e5, 1e5, 1, 1e5

clipper = WeightClipper()
mseloss = nn.MSELoss()


import os

total_params =  sum(p.numel() for p in qmodel.parameters())

path = f"./plots/d{d}-w0{w0}/PIQML_{total_params}"
if not os.path.exists(path):
    os.makedirs(path)

print(f'Sample results witll be saved to {path}')


import time
start = time.time()

for i in range(30001):
    optimiser.zero_grad()

    # Loss function for initial conditions
    # prediction_initial = qmodel(t_initial_grad)
    # loss1, loss2 = boundary_loss(prediction_initial, t_boundary=t_initial_grad)

    # Physics loss
    prediction_extend = qmodel(t_true_grad)
    loss3 = physics_loss(prediction_extend, t_physics=t_true_grad, mu=mu, k=k)

    # # Physics loss with dataset
    # loss3 = physics_loss(prediction, t_physics=t_data_grad, mu=mu, k=k)

    # Data loss
    prediction = qmodel(t_data_grad)
    loss4 = mseloss(prediction, obs_data_device)

    # Combined
    # loss = lambda1*loss1 + lambda2*loss2 + lambda3*loss3 + lambda4*loss4
    loss = lambda3*loss3 + lambda4*loss4

    loss.backward()

    optimiser.step()

    qmodel.quantum_layer.apply(clipper)

    all_mus.append(mu.item())
    all_loss.append(loss.item())

    if i % 10 == 0:
        clear_output(wait=True)
        prediction = qmodel(t_true_grad).cpu()
        # plt.figure(figsize=(8,2.5))

        fig, (ax1, ax2, ax3) = plt.subplots(1, 3, figsize=(15, 3), dpi=100)
        ax1.scatter(t_data.detach(), obs_data.detach(), label="Training data")
        ax1.plot(t_true.detach()[:, 0], obs_true.detach()[:, 0], label="Exact solution", color="tab:grey", alpha=0.6)
        ax1.plot(t_true.detach()[:, 0], prediction.detach()[:, 0], label="PIQML solution", color="tab:green")
        ax1.legend()
        ax1.set_title(f"Training step {i}, $\mu$ = {np.around(mu.item(), 4)}")

        ax2.plot(all_loss)
        ax2.set_xlim(1, len(all_loss))
        ax2.set_ylim(1, all_loss[0])
        ax2.set_yscale('log', base=10)

        ax2.set_title(f"Current Combined loss = {np.around(loss.item(), 4)}")

        # ax3.hist(all_mus, bins=20, weights=np.ones(len(all_mus))/len(all_mus))
        ax3.hist(all_mus, bins=np.histogram_bin_edges(all_mus, bins="fd"), weights=np.ones(len(all_mus))/len(all_mus))
        ax3.set_title(r'$\mu$ Historgram')

        plt.savefig(f'{path}/i_{i}.png', dpi=400)
        plt.show()

        print(f'''
        Report on loss fns:
        - Iteration: {i}
        - Physical Loss 1: {loss3}
        - MSE: {loss4}
        ''')
        print(list(qmodel.parameters()))  # Uncomment this to see parameters updating
    # Early stopping
    # if loss3 <= 1 and loss4 <= 0.002: break
end = time.time()


print(f"Time elapsed: {end - start}")


pd.DataFrame(all_mus).to_csv(f'{path}/PIQML_{total_params}.csv')


## MSE
prediction = qmodel(t_true_grad)
np.mean((harmonic_oscillator_solution(d=2, w0=20, t=t_true) - qmodel(t_true_grad).cpu()).detach().numpy())**2


def plot_result(x,y,x_data,y_data,yh, title=None):

    plt.figure(figsize=(8,4))
    plt.title(title)
    plt.plot(x,y, color="tab:grey", alpha=0.6, label="Exact solution")
    plt.plot(x,yh, color="tab:green", label="Quantum model prediction")
    plt.scatter(x_data, y_data, label='Training data')
    plt.ylabel('Oscilator Displacement')
    plt.xlabel('$t$')
    l = plt.legend(loc='best')

plot_result(
    t_true.detach(),
    obs_true.detach(),
    t_data.detach(),
    obs_data.detach(),
    qmodel(t_true_grad).detach().cpu(),
    title='Training of PIQML'
    )


print(f'mu = {mu}')

plt.figure(figsize=(8,4))
plt.title("Estimation of $\mu$ with training of PIQML")
plt.plot(all_mus, label="PIML estimation")
plt.hlines(2*d, 0, len(all_mus), label="True value", color="tab:green")
plt.legend(loc='best')
plt.xlabel("Training step")
plt.ylabel("$\mu$")
plt.show()


from matplotlib.ticker import PercentFormatter

plt.figure(figsize=(8,4))
plt.title('Distribution of what $\mu$ could be')
plt.hist(all_mus, bins=60, weights=np.ones(len(all_mus)) / len(all_mus))
plt.gca().yaxis.set_major_formatter(PercentFormatter(1))
plt.show()
