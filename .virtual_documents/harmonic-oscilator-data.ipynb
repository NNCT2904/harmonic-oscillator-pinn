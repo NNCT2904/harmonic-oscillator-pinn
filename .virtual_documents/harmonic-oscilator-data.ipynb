


import torch 
import torch.nn as nn
import numpy as np
import matplotlib.pyplot as plt
from data import harmonic_oscillator_solution
from CONFIG import OSCILLATION_PARAMS





import pandas as pd

# Some noisy data to simulate observational error
print(f'Found {len(OSCILLATION_PARAMS)} configs')
torch.manual_seed(123)

for OP in OSCILLATION_PARAMS:
    d = OP['d']
    w0 = OP['w0']

    t_obs = torch.linspace(0,1,300).view(-1,1)
    x_obs = harmonic_oscillator_solution(d, w0, t_obs) + 0.02*torch.randn_like(t_obs)

    df = pd.DataFrame(torch.cat((t_obs, x_obs), 1)).astype('float').sort_values(0)
    df.columns = ['t', 'observation']
    df.reindex(np.arange(len(df.index)))

    df.to_csv(f'time-oscillation-d{d}-w0{w0}.csv', index=False)



d = 2
w0 = 20

t_obs = torch.linspace(0,1,300).view(-1,1)
x_obs = harmonic_oscillator_solution(d, w0, t_obs) + 0.02*torch.randn_like(t_obs)


plt.figure()
plt.title("Noisy observational data")
plt.scatter(t_obs[:,0], x_obs[:,0], label="Observation")
t_test = torch.linspace(0,1,500).view(-1,1)
x_exact = harmonic_oscillator_solution(d, w0, t_test)
plt.plot(t_test[:,0], x_exact[:,0], label="Exact solution", color="tab:grey", alpha=0.6)
plt.legend()
plt.show()


d = 1.5
w0 = 30

t_obs = torch.linspace(0, 1, 300).view(-1, 1)
x_obs = harmonic_oscillator_solution(d, w0, t_obs) + 0.02*torch.randn_like(t_obs)


plt.figure()
plt.title(r"Noisy observational data $d={d}$, $\omega_0={w0}$")
plt.scatter(t_obs[:, 0], x_obs[:, 0], label="Observation")
t_test = torch.linspace(0, 1, 500).view(-1, 1)
x_exact = harmonic_oscillator_solution(d, w0, t_test)
plt.plot(t_test[:, 0], x_exact[:, 0], label="Exact solution", color="tab:grey", alpha=0.6)
plt.legend()
plt.show()



