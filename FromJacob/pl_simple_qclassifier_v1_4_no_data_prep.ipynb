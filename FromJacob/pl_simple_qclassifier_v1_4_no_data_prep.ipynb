{
 "cells": [
  {
   "cell_type": "markdown",
   "id": "2bfc6bdc-f3a6-4fa5-937b-e40a1fcbcae9",
   "metadata": {},
   "source": [
    "# A Simple Quantum Classifier\n",
    "\n",
    "_This notebook explores the creation and use of a model in **PennyLane and PyTorch**_.\n",
    "\n",
    "**By:** Jacob Cybulski<br>\n",
    "**Date:** October 2024<br>\n",
    "**Aims:** The goal of this notebook is to explore PennyLane quantum model creation.<br/>"
   ]
  },
  {
   "cell_type": "markdown",
   "id": "5715a135-8768-4fac-9373-072ffd8039a1",
   "metadata": {},
   "source": [
    "## Libraries"
   ]
  },
  {
   "cell_type": "code",
   "execution_count": 1,
   "id": "7c92610b-6d3a-45cb-9c29-487523799255",
   "metadata": {},
   "outputs": [
    {
     "data": {
      "text/plain": [
       "['/home/ncng/.pyenv/versions/3.10.9/lib/python310.zip',\n",
       " '/home/ncng/.pyenv/versions/3.10.9/lib/python3.10',\n",
       " '/home/ncng/.pyenv/versions/3.10.9/lib/python3.10/lib-dynload',\n",
       " '',\n",
       " '/home/ncng/.local/share/virtualenvs/harmonic-oscillator-pinn-TgSL529C/lib/python3.10/site-packages',\n",
       " '.']"
      ]
     },
     "execution_count": 1,
     "metadata": {},
     "output_type": "execute_result"
    }
   ],
   "source": [
    "import sys\n",
    "sys.path.append('.')\n",
    "sys.path"
   ]
  },
  {
   "cell_type": "code",
   "execution_count": 2,
   "id": "e4a6dcc2-2992-43ea-9ce7-925124df72bb",
   "metadata": {},
   "outputs": [],
   "source": [
    "### General libraries\n",
    "\n",
    "import os\n",
    "import pylab\n",
    "import math\n",
    "import time\n",
    "import copy\n",
    "import numpy as nnp\n",
    "import pandas as pd\n",
    "from IPython.display import clear_output\n",
    "\n",
    "import matplotlib.pyplot as plt\n",
    "from matplotlib import set_loglevel\n",
    "set_loglevel(\"warning\")\n",
    "\n",
    "import warnings\n",
    "warnings.filterwarnings(\"ignore\")\n",
    "\n",
    "%matplotlib inline"
   ]
  },
  {
   "cell_type": "code",
   "execution_count": 3,
   "id": "d7369b15-1a33-4e1c-ba8b-11dcae8d5650",
   "metadata": {},
   "outputs": [],
   "source": [
    "### Import utilities\n",
    "from utilities import *"
   ]
  },
  {
   "cell_type": "markdown",
   "id": "c14d8243-f35f-4289-ba52-58c59e0634ba",
   "metadata": {},
   "source": [
    "## Load previously prepared data set"
   ]
  },
  {
   "cell_type": "markdown",
   "id": "b2a77624-a252-408f-a39a-58acabc33a2f",
   "metadata": {},
   "source": [
    "Data sets to chose from (require: pip install ucimlrepo):\n",
    "- <a href=\"https://archive.ics.uci.edu/dataset/10/automobile\" target=\"_blank\">Automobiles</a>:\n",
    "  This is a database of automobile specs. The task is to either predict the car price or determine its insurance risk (symboling).\n",
    "- <a href=\"https://archive.ics.uci.edu/dataset/151/connectionist+bench+sonar+mines+vs+rocks\" target=\"_blank\">Sonar</a>:\n",
    "  The task is to discriminate between sonar signals bounced off a mine (metal cylinder) or a rock (roughly cylindrical).\n",
    "  \n",
    "_**Data prepared according to the following objectives:**_\n",
    "\n",
    "- *Fetch and understand data*\n",
    "- *Select numeric variables only*\n",
    "- *Deal with missing values*\n",
    "- *Prepare the label (change it to binary)*\n",
    "- *Standardise predictors*\n",
    "- *Reduce dimensionality using PCA*\n"
   ]
  },
  {
   "cell_type": "markdown",
   "id": "df5228d1-d0a5-4710-8117-540832f50f90",
   "metadata": {},
   "source": [
    "### Files location"
   ]
  },
  {
   "cell_type": "code",
   "execution_count": 4,
   "id": "24e23193-d396-4910-b663-973b400bb1f4",
   "metadata": {},
   "outputs": [],
   "source": [
    "RSRC_STORE = 'rsrc'\n",
    "RSRC_NAME = 'simple_auto'"
   ]
  },
  {
   "cell_type": "markdown",
   "id": "e0b9e70b-5fcb-4930-8f82-f3d485271ee0",
   "metadata": {},
   "source": [
    "### Data set in its original form"
   ]
  },
  {
   "cell_type": "code",
   "execution_count": 5,
   "id": "05ab86be-f486-46ca-b35b-3673906f2cff",
   "metadata": {},
   "outputs": [
    {
     "ename": "ModuleNotFoundError",
     "evalue": "No module named 'ucimlrepo'",
     "output_type": "error",
     "traceback": [
      "\u001b[0;31m---------------------------------------------------------------------------\u001b[0m",
      "\u001b[0;31mModuleNotFoundError\u001b[0m                       Traceback (most recent call last)",
      "Cell \u001b[0;32mIn[5], line 1\u001b[0m\n\u001b[0;32m----> 1\u001b[0m \u001b[38;5;28;01mfrom\u001b[39;00m \u001b[38;5;21;01mucimlrepo\u001b[39;00m \u001b[38;5;28;01mimport\u001b[39;00m fetch_ucirepo\n\u001b[1;32m      3\u001b[0m auto \u001b[38;5;241m=\u001b[39m fetch_ucirepo(\u001b[38;5;28mid\u001b[39m\u001b[38;5;241m=\u001b[39m\u001b[38;5;241m10\u001b[39m)\n\u001b[1;32m      5\u001b[0m \u001b[38;5;66;03m# data (as pandas dataframes) \u001b[39;00m\n",
      "\u001b[0;31mModuleNotFoundError\u001b[0m: No module named 'ucimlrepo'"
     ]
    }
   ],
   "source": [
    "from ucimlrepo import fetch_ucirepo\n",
    "\n",
    "auto = fetch_ucirepo(id=10)\n",
    "\n",
    "# data (as pandas dataframes) \n",
    "X_vars = auto.data.features \n",
    "y_class = auto.data.targets \n",
    "  \n",
    "# metadata \n",
    "print(auto.metadata['additional_info']['summary'],'\\n') \n",
    "  \n",
    "# variable information \n",
    "# print(auto.variables) "
   ]
  },
  {
   "cell_type": "code",
   "execution_count": 6,
   "id": "eff3b902-2d26-4e6f-81a8-99a243cbca69",
   "metadata": {},
   "outputs": [
    {
     "data": {
      "text/html": [
       "<div>\n",
       "<style scoped>\n",
       "    .dataframe tbody tr th:only-of-type {\n",
       "        vertical-align: middle;\n",
       "    }\n",
       "\n",
       "    .dataframe tbody tr th {\n",
       "        vertical-align: top;\n",
       "    }\n",
       "\n",
       "    .dataframe thead th {\n",
       "        text-align: right;\n",
       "    }\n",
       "</style>\n",
       "<table border=\"1\" class=\"dataframe\">\n",
       "  <thead>\n",
       "    <tr style=\"text-align: right;\">\n",
       "      <th></th>\n",
       "      <th>price</th>\n",
       "      <th>highway-mpg</th>\n",
       "      <th>city-mpg</th>\n",
       "      <th>peak-rpm</th>\n",
       "      <th>horsepower</th>\n",
       "      <th>compression-ratio</th>\n",
       "      <th>stroke</th>\n",
       "      <th>bore</th>\n",
       "      <th>fuel-system</th>\n",
       "      <th>engine-size</th>\n",
       "      <th>...</th>\n",
       "      <th>length</th>\n",
       "      <th>wheel-base</th>\n",
       "      <th>engine-location</th>\n",
       "      <th>drive-wheels</th>\n",
       "      <th>body-style</th>\n",
       "      <th>num-of-doors</th>\n",
       "      <th>aspiration</th>\n",
       "      <th>fuel-type</th>\n",
       "      <th>make</th>\n",
       "      <th>normalized-losses</th>\n",
       "    </tr>\n",
       "  </thead>\n",
       "  <tbody>\n",
       "    <tr>\n",
       "      <th>0</th>\n",
       "      <td>13495.0</td>\n",
       "      <td>27</td>\n",
       "      <td>21</td>\n",
       "      <td>5000.0</td>\n",
       "      <td>111.0</td>\n",
       "      <td>9.0</td>\n",
       "      <td>2.68</td>\n",
       "      <td>3.47</td>\n",
       "      <td>mpfi</td>\n",
       "      <td>130</td>\n",
       "      <td>...</td>\n",
       "      <td>168.8</td>\n",
       "      <td>88.6</td>\n",
       "      <td>front</td>\n",
       "      <td>rwd</td>\n",
       "      <td>convertible</td>\n",
       "      <td>2.0</td>\n",
       "      <td>std</td>\n",
       "      <td>gas</td>\n",
       "      <td>alfa-romero</td>\n",
       "      <td>NaN</td>\n",
       "    </tr>\n",
       "    <tr>\n",
       "      <th>1</th>\n",
       "      <td>16500.0</td>\n",
       "      <td>27</td>\n",
       "      <td>21</td>\n",
       "      <td>5000.0</td>\n",
       "      <td>111.0</td>\n",
       "      <td>9.0</td>\n",
       "      <td>2.68</td>\n",
       "      <td>3.47</td>\n",
       "      <td>mpfi</td>\n",
       "      <td>130</td>\n",
       "      <td>...</td>\n",
       "      <td>168.8</td>\n",
       "      <td>88.6</td>\n",
       "      <td>front</td>\n",
       "      <td>rwd</td>\n",
       "      <td>convertible</td>\n",
       "      <td>2.0</td>\n",
       "      <td>std</td>\n",
       "      <td>gas</td>\n",
       "      <td>alfa-romero</td>\n",
       "      <td>NaN</td>\n",
       "    </tr>\n",
       "    <tr>\n",
       "      <th>2</th>\n",
       "      <td>16500.0</td>\n",
       "      <td>26</td>\n",
       "      <td>19</td>\n",
       "      <td>5000.0</td>\n",
       "      <td>154.0</td>\n",
       "      <td>9.0</td>\n",
       "      <td>3.47</td>\n",
       "      <td>2.68</td>\n",
       "      <td>mpfi</td>\n",
       "      <td>152</td>\n",
       "      <td>...</td>\n",
       "      <td>171.2</td>\n",
       "      <td>94.5</td>\n",
       "      <td>front</td>\n",
       "      <td>rwd</td>\n",
       "      <td>hatchback</td>\n",
       "      <td>2.0</td>\n",
       "      <td>std</td>\n",
       "      <td>gas</td>\n",
       "      <td>alfa-romero</td>\n",
       "      <td>NaN</td>\n",
       "    </tr>\n",
       "    <tr>\n",
       "      <th>3</th>\n",
       "      <td>13950.0</td>\n",
       "      <td>30</td>\n",
       "      <td>24</td>\n",
       "      <td>5500.0</td>\n",
       "      <td>102.0</td>\n",
       "      <td>10.0</td>\n",
       "      <td>3.40</td>\n",
       "      <td>3.19</td>\n",
       "      <td>mpfi</td>\n",
       "      <td>109</td>\n",
       "      <td>...</td>\n",
       "      <td>176.6</td>\n",
       "      <td>99.8</td>\n",
       "      <td>front</td>\n",
       "      <td>fwd</td>\n",
       "      <td>sedan</td>\n",
       "      <td>4.0</td>\n",
       "      <td>std</td>\n",
       "      <td>gas</td>\n",
       "      <td>audi</td>\n",
       "      <td>164.0</td>\n",
       "    </tr>\n",
       "    <tr>\n",
       "      <th>4</th>\n",
       "      <td>17450.0</td>\n",
       "      <td>22</td>\n",
       "      <td>18</td>\n",
       "      <td>5500.0</td>\n",
       "      <td>115.0</td>\n",
       "      <td>8.0</td>\n",
       "      <td>3.40</td>\n",
       "      <td>3.19</td>\n",
       "      <td>mpfi</td>\n",
       "      <td>136</td>\n",
       "      <td>...</td>\n",
       "      <td>176.6</td>\n",
       "      <td>99.4</td>\n",
       "      <td>front</td>\n",
       "      <td>4wd</td>\n",
       "      <td>sedan</td>\n",
       "      <td>4.0</td>\n",
       "      <td>std</td>\n",
       "      <td>gas</td>\n",
       "      <td>audi</td>\n",
       "      <td>164.0</td>\n",
       "    </tr>\n",
       "  </tbody>\n",
       "</table>\n",
       "<p>5 rows × 25 columns</p>\n",
       "</div>"
      ],
      "text/plain": [
       "     price  highway-mpg  city-mpg  peak-rpm  horsepower  compression-ratio  \\\n",
       "0  13495.0           27        21    5000.0       111.0                9.0   \n",
       "1  16500.0           27        21    5000.0       111.0                9.0   \n",
       "2  16500.0           26        19    5000.0       154.0                9.0   \n",
       "3  13950.0           30        24    5500.0       102.0               10.0   \n",
       "4  17450.0           22        18    5500.0       115.0                8.0   \n",
       "\n",
       "   stroke  bore fuel-system  engine-size  ...  length wheel-base  \\\n",
       "0    2.68  3.47        mpfi          130  ...   168.8       88.6   \n",
       "1    2.68  3.47        mpfi          130  ...   168.8       88.6   \n",
       "2    3.47  2.68        mpfi          152  ...   171.2       94.5   \n",
       "3    3.40  3.19        mpfi          109  ...   176.6       99.8   \n",
       "4    3.40  3.19        mpfi          136  ...   176.6       99.4   \n",
       "\n",
       "   engine-location  drive-wheels   body-style  num-of-doors  aspiration  \\\n",
       "0            front           rwd  convertible           2.0         std   \n",
       "1            front           rwd  convertible           2.0         std   \n",
       "2            front           rwd    hatchback           2.0         std   \n",
       "3            front           fwd        sedan           4.0         std   \n",
       "4            front           4wd        sedan           4.0         std   \n",
       "\n",
       "  fuel-type         make normalized-losses  \n",
       "0       gas  alfa-romero               NaN  \n",
       "1       gas  alfa-romero               NaN  \n",
       "2       gas  alfa-romero               NaN  \n",
       "3       gas         audi             164.0  \n",
       "4       gas         audi             164.0  \n",
       "\n",
       "[5 rows x 25 columns]"
      ]
     },
     "execution_count": 6,
     "metadata": {},
     "output_type": "execute_result"
    }
   ],
   "source": [
    "X_vars.head(5)"
   ]
  },
  {
   "cell_type": "markdown",
   "id": "0e727b62-92e8-4952-8d70-cc5892c6cf5f",
   "metadata": {},
   "source": [
    "### Load data from the store"
   ]
  },
  {
   "cell_type": "code",
   "execution_count": 7,
   "id": "ac6a1315-accc-4550-bd65-45237b2a5704",
   "metadata": {},
   "outputs": [
    {
     "name": "stdout",
     "output_type": "stream",
     "text": [
      "\n",
      "Read previously prepared data set:   \"simple_auto\" in store \"rsrc\"\n",
      "\n"
     ]
    }
   ],
   "source": [
    "x_file_path = os.path.join(RSRC_STORE, RSRC_NAME+'_x.pkl')\n",
    "y_file_path = os.path.join(RSRC_STORE, RSRC_NAME+'_y.pkl')\n",
    "X_pca = pd.read_pickle(x_file_path)\n",
    "y = pd.read_pickle(y_file_path)\n",
    "print(f'\\nRead previously prepared data set:   \"{RSRC_NAME}\" in store \"{RSRC_STORE}\"\\n')"
   ]
  },
  {
   "cell_type": "code",
   "execution_count": 8,
   "id": "d23d84ce-1229-4971-ac7b-899536c5bffa",
   "metadata": {},
   "outputs": [
    {
     "data": {
      "text/html": [
       "<div>\n",
       "<style scoped>\n",
       "    .dataframe tbody tr th:only-of-type {\n",
       "        vertical-align: middle;\n",
       "    }\n",
       "\n",
       "    .dataframe tbody tr th {\n",
       "        vertical-align: top;\n",
       "    }\n",
       "\n",
       "    .dataframe thead th {\n",
       "        text-align: right;\n",
       "    }\n",
       "</style>\n",
       "<table border=\"1\" class=\"dataframe\">\n",
       "  <thead>\n",
       "    <tr style=\"text-align: right;\">\n",
       "      <th></th>\n",
       "      <th>PC00</th>\n",
       "      <th>PC01</th>\n",
       "      <th>PC02</th>\n",
       "      <th>PC03</th>\n",
       "      <th>PC04</th>\n",
       "      <th>PC05</th>\n",
       "      <th>PC06</th>\n",
       "      <th>PC07</th>\n",
       "    </tr>\n",
       "  </thead>\n",
       "  <tbody>\n",
       "    <tr>\n",
       "      <th>7</th>\n",
       "      <td>1.309</td>\n",
       "      <td>0.300</td>\n",
       "      <td>-0.380</td>\n",
       "      <td>-0.279</td>\n",
       "      <td>-0.583</td>\n",
       "      <td>-0.224</td>\n",
       "      <td>0.000</td>\n",
       "      <td>0.080</td>\n",
       "    </tr>\n",
       "    <tr>\n",
       "      <th>8</th>\n",
       "      <td>1.404</td>\n",
       "      <td>0.612</td>\n",
       "      <td>-0.500</td>\n",
       "      <td>-0.491</td>\n",
       "      <td>-0.684</td>\n",
       "      <td>-0.113</td>\n",
       "      <td>-0.094</td>\n",
       "      <td>0.275</td>\n",
       "    </tr>\n",
       "    <tr>\n",
       "      <th>9</th>\n",
       "      <td>-0.650</td>\n",
       "      <td>1.271</td>\n",
       "      <td>-0.318</td>\n",
       "      <td>-0.086</td>\n",
       "      <td>-0.307</td>\n",
       "      <td>-0.316</td>\n",
       "      <td>0.018</td>\n",
       "      <td>-0.097</td>\n",
       "    </tr>\n",
       "    <tr>\n",
       "      <th>10</th>\n",
       "      <td>-0.918</td>\n",
       "      <td>0.757</td>\n",
       "      <td>-0.158</td>\n",
       "      <td>0.132</td>\n",
       "      <td>-0.592</td>\n",
       "      <td>0.702</td>\n",
       "      <td>-0.097</td>\n",
       "      <td>0.224</td>\n",
       "    </tr>\n",
       "    <tr>\n",
       "      <th>11</th>\n",
       "      <td>0.592</td>\n",
       "      <td>-0.278</td>\n",
       "      <td>-0.712</td>\n",
       "      <td>-0.322</td>\n",
       "      <td>-0.267</td>\n",
       "      <td>0.821</td>\n",
       "      <td>-0.115</td>\n",
       "      <td>0.256</td>\n",
       "    </tr>\n",
       "  </tbody>\n",
       "</table>\n",
       "</div>"
      ],
      "text/plain": [
       "     PC00   PC01   PC02   PC03   PC04   PC05   PC06   PC07\n",
       "7   1.309  0.300 -0.380 -0.279 -0.583 -0.224  0.000  0.080\n",
       "8   1.404  0.612 -0.500 -0.491 -0.684 -0.113 -0.094  0.275\n",
       "9  -0.650  1.271 -0.318 -0.086 -0.307 -0.316  0.018 -0.097\n",
       "10 -0.918  0.757 -0.158  0.132 -0.592  0.702 -0.097  0.224\n",
       "11  0.592 -0.278 -0.712 -0.322 -0.267  0.821 -0.115  0.256"
      ]
     },
     "execution_count": 8,
     "metadata": {},
     "output_type": "execute_result"
    }
   ],
   "source": [
    "### Sample of saved X predictors\n",
    "nnp.round(X_pca[7:12], 3)"
   ]
  },
  {
   "cell_type": "code",
   "execution_count": 9,
   "id": "7867eb90-9eaf-4b2e-9863-a831865b1498",
   "metadata": {},
   "outputs": [
    {
     "data": {
      "text/html": [
       "<div>\n",
       "<style scoped>\n",
       "    .dataframe tbody tr th:only-of-type {\n",
       "        vertical-align: middle;\n",
       "    }\n",
       "\n",
       "    .dataframe tbody tr th {\n",
       "        vertical-align: top;\n",
       "    }\n",
       "\n",
       "    .dataframe thead th {\n",
       "        text-align: right;\n",
       "    }\n",
       "</style>\n",
       "<table border=\"1\" class=\"dataframe\">\n",
       "  <thead>\n",
       "    <tr style=\"text-align: right;\">\n",
       "      <th></th>\n",
       "      <th>symboling</th>\n",
       "    </tr>\n",
       "  </thead>\n",
       "  <tbody>\n",
       "    <tr>\n",
       "      <th>7</th>\n",
       "      <td>1</td>\n",
       "    </tr>\n",
       "    <tr>\n",
       "      <th>8</th>\n",
       "      <td>1</td>\n",
       "    </tr>\n",
       "    <tr>\n",
       "      <th>9</th>\n",
       "      <td>0</td>\n",
       "    </tr>\n",
       "    <tr>\n",
       "      <th>10</th>\n",
       "      <td>1</td>\n",
       "    </tr>\n",
       "    <tr>\n",
       "      <th>11</th>\n",
       "      <td>0</td>\n",
       "    </tr>\n",
       "  </tbody>\n",
       "</table>\n",
       "</div>"
      ],
      "text/plain": [
       "    symboling\n",
       "7           1\n",
       "8           1\n",
       "9           0\n",
       "10          1\n",
       "11          0"
      ]
     },
     "execution_count": 9,
     "metadata": {},
     "output_type": "execute_result"
    }
   ],
   "source": [
    "### Sample of saved y label\n",
    "y[7:12]"
   ]
  },
  {
   "cell_type": "markdown",
   "id": "f0fc7083-0fd0-4188-9974-e7c6cdceb48b",
   "metadata": {},
   "source": [
    "## First let us explore PennyLane and create a tiny quantum model\n",
    "\n",
    "We will first identify what quantum devices and gradient support we have, then we will show the principles of working with PennyLane, then prepare data for model training and testing, create a quantum model, and finally train it and test it."
   ]
  },
  {
   "cell_type": "code",
   "execution_count": 10,
   "id": "c2fc64dc-04d3-45e5-9624-124caeb7fe7f",
   "metadata": {},
   "outputs": [],
   "source": [
    "### PennyLane and Torch\n",
    "\n",
    "import pennylane as qml\n",
    "from pennylane import numpy as np\n",
    "from pennylane import NesterovMomentumOptimizer\n",
    "from torch import nn\n",
    "from torch.autograd import Variable\n",
    "import torch"
   ]
  },
  {
   "cell_type": "markdown",
   "id": "b879499d-3f99-4c64-bca2-839624c0e7ee",
   "metadata": {},
   "source": [
    "### Utilities"
   ]
  },
  {
   "cell_type": "code",
   "execution_count": 11,
   "id": "cccb1bff-d81c-4b59-bfe5-4d7a9d17a66f",
   "metadata": {},
   "outputs": [],
   "source": [
    "### Performance measures\n",
    "\n",
    "def square_loss(labels, predictions):\n",
    "    sq_diffs = torch.tensor([(l - p)**2 for l, p in zip(labels, predictions)])\n",
    "    return sq_diffs.mean().item()\n",
    "\n",
    "def accuracy(labels, predictions, prec=1e-5):\n",
    "    acc = sum(abs(l - p) < prec for l, p in zip(labels, predictions))\n",
    "    acc = acc / len(labels)\n",
    "    return acc.item()\n",
    "    \n",
    "### Counts the number of pytorch model parameters\n",
    "### Useful for hybrid models\n",
    "def count_params(model):\n",
    "    return sum(p.numel() for p in model.parameters() if p.requires_grad)"
   ]
  },
  {
   "cell_type": "markdown",
   "id": "b6273b96-e15a-449c-9174-fb3d788a03e7",
   "metadata": {},
   "source": [
    "### Define device to compute on"
   ]
  },
  {
   "cell_type": "code",
   "execution_count": 12,
   "id": "7ae209f5-9368-4e64-8ed6-8c19cd20c739",
   "metadata": {},
   "outputs": [
    {
     "data": {
      "text/plain": [
       "('lightning.qubit', 'cpu')"
      ]
     },
     "execution_count": 12,
     "metadata": {},
     "output_type": "execute_result"
    }
   ],
   "source": [
    "### Find what devices are available\n",
    "\n",
    "# Quantum simulator\n",
    "sim = 'lightning.qubit' # default.qubit lightning.qubit lightning.gpu\n",
    "\n",
    "# Enable CUDA device if available\n",
    "torch_device = torch.device(\"cuda:0\" if torch.cuda.is_available() else \"cpu\")\n",
    "\n",
    "# Force CPU\n",
    "torch_device = \"cpu\"\n",
    "(sim, torch_device)"
   ]
  },
  {
   "cell_type": "markdown",
   "id": "9c3cb4f0-b73b-4b16-a06e-283899c407c2",
   "metadata": {},
   "source": [
    "### Show PennyLane principles of processing"
   ]
  },
  {
   "cell_type": "code",
   "execution_count": 13,
   "id": "72f0c88d-bafb-433c-a335-11a1decb2408",
   "metadata": {},
   "outputs": [],
   "source": [
    "### Test data\n",
    "weights = np.array([1.7, 0.5, 0.5], requires_grad=True)"
   ]
  },
  {
   "cell_type": "code",
   "execution_count": 14,
   "id": "d207b660-0fba-4250-b38b-dc7df3134cb4",
   "metadata": {},
   "outputs": [],
   "source": [
    "### Simple circuit creation and execution\n",
    "dev = qml.device(\"lightning.qubit\", wires=2) # default.qubit\n",
    "\n",
    "@qml.qnode(dev)\n",
    "def circuit(weights):\n",
    "    qml.RX(weights[0], wires=0)\n",
    "    qml.RY(weights[1], wires=1)\n",
    "    qml.CNOT(wires=[0, 1])\n",
    "    qml.RY(weights[2], wires=1)\n",
    "    return qml.probs(wires=range(2))"
   ]
  },
  {
   "cell_type": "code",
   "execution_count": 15,
   "id": "fe6d2f6d-c41e-4459-94fc-6cd92956a6e1",
   "metadata": {},
   "outputs": [
    {
     "data": {
      "text/plain": [
       "array([3.35460709e-01, 1.00117044e-01, 7.70371978e-34, 5.64422247e-01])"
      ]
     },
     "execution_count": 15,
     "metadata": {},
     "output_type": "execute_result"
    }
   ],
   "source": [
    "circuit(weights)"
   ]
  },
  {
   "cell_type": "code",
   "execution_count": 16,
   "id": "4797cdf0-3115-4a9d-8024-8db20badd6a4",
   "metadata": {},
   "outputs": [
    {
     "data": {
      "image/png": "[encoded data removed]",
      "text/plain": [
       "<Figure size 420x210 with 1 Axes>"
      ]
     },
     "metadata": {},
     "output_type": "display_data"
    }
   ],
   "source": [
    "### Plots the circuit\n",
    "draw_circuit(circuit, scale=0.7, title='Tiny model', style='pennylane')(weights)"
   ]
  },
  {
   "cell_type": "code",
   "execution_count": 17,
   "id": "ecf2c09a-b560-4565-971f-4a9a308c4e23",
   "metadata": {},
   "outputs": [],
   "source": [
    "### Simple circuit creation and execution\n",
    "dev = qml.device(\"lightning.qubit\", wires=3) # default.qubit\n",
    "\n",
    "@qml.qnode(dev)\n",
    "def circuit(weights):\n",
    "    qml.RX(weights[0], wires=0)\n",
    "    qml.RY(weights[1], wires=1)\n",
    "    qml.CNOT(wires=[0, 1])\n",
    "    qml.RY(weights[2], wires=1)\n",
    "    return [qml.expval(qml.PauliZ(m)) for m in range(2)]"
   ]
  },
  {
   "cell_type": "code",
   "execution_count": 18,
   "id": "d17a3403-8740-4b72-8ae0-924cf312c3f6",
   "metadata": {},
   "outputs": [
    {
     "data": {
      "text/plain": [
       "[-0.12884449429552475, -0.3290785828968357]"
      ]
     },
     "execution_count": 18,
     "metadata": {},
     "output_type": "execute_result"
    }
   ],
   "source": [
    "### Apply the circuit to test data\n",
    "circuit(weights)"
   ]
  },
  {
   "cell_type": "code",
   "execution_count": 19,
   "id": "2dc56d14-0ed5-443a-943e-44e6b8bb15e7",
   "metadata": {},
   "outputs": [
    {
     "data": {
      "image/png": "[encoded data removed]",
      "text/plain": [
       "<Figure size 420x210 with 1 Axes>"
      ]
     },
     "metadata": {},
     "output_type": "display_data"
    }
   ],
   "source": [
    "### Plots the circuit\n",
    "draw_circuit(circuit, scale=0.7, title='Tiny model', style='pennylane')(weights)"
   ]
  },
  {
   "cell_type": "code",
   "execution_count": 20,
   "id": "fabbe5f2-954a-4075-98d4-177c371f6d6f",
   "metadata": {},
   "outputs": [
    {
     "data": {
      "text/plain": [
       "[array([-9.91664810e-01, -8.32667268e-17,  2.77555756e-17]),\n",
       " array([-0.7637318 , -0.36652604, -0.36652604])]"
      ]
     },
     "execution_count": 20,
     "metadata": {},
     "output_type": "execute_result"
    }
   ],
   "source": [
    "### Show gradients at each of the model parameters\n",
    "qml.gradients.param_shift(circuit)(weights)"
   ]
  },
  {
   "cell_type": "markdown",
   "id": "d94daa63-93e2-4224-83d5-341938e24972",
   "metadata": {},
   "source": [
    "## Create a simple quantum model"
   ]
  },
  {
   "cell_type": "markdown",
   "id": "08bfba56-91d4-499a-befd-d3b37588c06f",
   "metadata": {},
   "source": [
    "### Model and training configuration"
   ]
  },
  {
   "cell_type": "code",
   "execution_count": 21,
   "id": "874324ec-453f-4c8f-a6b4-b6c061a6371a",
   "metadata": {},
   "outputs": [],
   "source": [
    "### Data params\n",
    "n_data = 4\n",
    "x_angle_margin = 0.1\n",
    "x_angle_min = 0+x_angle_margin\n",
    "x_angle_max = nnp.pi-x_angle_margin\n",
    "\n",
    "### Architectural params\n",
    "n_wires = n_data\n",
    "n_layers = 5\n",
    "scaler = 1\n",
    "wires = list(range(n_wires))\n",
    "\n",
    "### Training params\n",
    "epochs = 60\n",
    "log_interv = 1\n",
    "prompt_fract = 0.05\n",
    "acc_prec = 0.5\n",
    "shots = 1000\n",
    "seed = 2024"
   ]
  },
  {
   "cell_type": "markdown",
   "id": "0f3d1ed0-2fe6-43c8-bfbd-a922e460976e",
   "metadata": {},
   "source": [
    "### Prepare data for the classifier"
   ]
  },
  {
   "cell_type": "code",
   "execution_count": 22,
   "id": "a2443c70-1dbc-4b12-96b7-328e7b1f2289",
   "metadata": {},
   "outputs": [
    {
     "name": "stdout",
     "output_type": "stream",
     "text": [
      "Min X=-2.276, Max X=3.081, Min y=0, Max y=1\n"
     ]
    }
   ],
   "source": [
    "### Check ranges\n",
    "print(f'Min X={X_pca.to_numpy().min().round(3)}, Max X={X_pca.to_numpy().max().round(3)}, '+\\\n",
    "      f'Min y={y.to_numpy().min().round(3)}, Max y={y.to_numpy().max().round(3)}')"
   ]
  },
  {
   "cell_type": "code",
   "execution_count": 23,
   "id": "83900794-4f94-43dc-82ce-48bdd44a7656",
   "metadata": {},
   "outputs": [
    {
     "name": "stdout",
     "output_type": "stream",
     "text": [
      "Min X=0.1, Max X=3.042\n"
     ]
    }
   ],
   "source": [
    "### Standardise X values to the range 0..pi\n",
    "from sklearn.preprocessing import StandardScaler, MinMaxScaler\n",
    "angle_scaler = MinMaxScaler(feature_range=(x_angle_min, x_angle_max)) \n",
    "scaled = angle_scaler.fit_transform(X_pca) \n",
    "X = pd.DataFrame(scaled, columns=X_pca.columns)\n",
    "\n",
    "# Recheck the X ranges\n",
    "print(f'Min X={X.to_numpy().min().round(3)}, Max X={X.to_numpy().max().round(3)}')"
   ]
  },
  {
   "cell_type": "code",
   "execution_count": 24,
   "id": "204b242b-c9c1-4f8f-a5e7-00f9a396f68a",
   "metadata": {},
   "outputs": [
    {
     "name": "stdout",
     "output_type": "stream",
     "text": [
      "Shapes: X_train=(137, 4), X_test=(68, 4), y_train=(137, 1), y_test=(68, 1)\n"
     ]
    }
   ],
   "source": [
    "### Create data partitions\n",
    "from sklearn.model_selection import train_test_split\n",
    "X_train, X_test, y_train, y_test = train_test_split(X.iloc[:,0:n_data], y.iloc[:,0:n_data], \n",
    "                                                    test_size=0.33, random_state=seed)\n",
    "print(f'Shapes: X_train={X_train.shape}, X_test={X_test.shape}, y_train={y_train.shape}, y_test={y_test.shape}')"
   ]
  },
  {
   "cell_type": "code",
   "execution_count": 25,
   "id": "ab85dc0d-fb4a-4d6f-b0d2-5b6cad51785d",
   "metadata": {},
   "outputs": [],
   "source": [
    "### Change the data format to tensors\n",
    "X_train_tens = torch.tensor(np.array(X_train), dtype=torch.double)\n",
    "y_train_tens = torch.tensor(np.array(y_train), dtype=torch.double)\n",
    "X_test_tens  = torch.tensor(np.array(X_test), dtype=torch.double)\n",
    "y_test_tens  = torch.tensor(np.array(y_test), dtype=torch.double)"
   ]
  },
  {
   "cell_type": "code",
   "execution_count": 26,
   "id": "1d26a9d1-44f5-4a14-b522-edd85a463c20",
   "metadata": {},
   "outputs": [
    {
     "name": "stdout",
     "output_type": "stream",
     "text": [
      "tensor([[2.7129, 1.4562, 2.5052, 1.0274],\n",
      "        [2.1712, 1.1174, 0.6206, 1.6211],\n",
      "        [1.9172, 0.8760, 0.5968, 0.9686],\n",
      "        [0.5766, 0.8857, 1.1895, 1.7811],\n",
      "        [0.9882, 1.6640, 0.8221, 1.2228]], dtype=torch.float64)\n"
     ]
    }
   ],
   "source": [
    "### Sample training predictors\n",
    "print(X_train_tens[0:5])"
   ]
  },
  {
   "cell_type": "code",
   "execution_count": 27,
   "id": "ad50dd10-7598-4317-b562-d27b64040686",
   "metadata": {},
   "outputs": [
    {
     "data": {
      "text/plain": [
       "tensor([[0.],\n",
       "        [0.],\n",
       "        [0.],\n",
       "        [1.],\n",
       "        [1.]], dtype=torch.float64)"
      ]
     },
     "execution_count": 27,
     "metadata": {},
     "output_type": "execute_result"
    }
   ],
   "source": [
    "### Sample training labels\n",
    "y_train_tens[0:5]"
   ]
  },
  {
   "cell_type": "markdown",
   "id": "6bf402af-fb62-4a95-88a0-c65c43c3f500",
   "metadata": {},
   "source": [
    "### Create a model"
   ]
  },
  {
   "cell_type": "code",
   "execution_count": 28,
   "id": "d8ce6138-296b-4925-88eb-30b6ecb3716e",
   "metadata": {},
   "outputs": [],
   "source": [
    "### Define a simple classifier\n",
    "def classifier_basis(wires, n_data, n_layers=1, meas_wires=[0], scaler=np.pi):\n",
    "    \n",
    "    def _classifier_circ(inputs, weights):\n",
    "        # inputs: predictors with values in the range of [-1..1] \n",
    "        # output: probability of measurement to be 1\n",
    "        nonlocal wires, n_data, n_layers, meas_wires, scaler\n",
    "        \n",
    "        data_wires = wires[0:n_data]\n",
    "        scaled_inputs = torch.mul(inputs, scaler)\n",
    "        qml.AngleEmbedding(scaled_inputs, wires=data_wires)        \n",
    "        qml.StronglyEntanglingLayers(weights, wires=data_wires)\n",
    "        return [qml.expval(qml.PauliZ(m)) for m in meas_wires]\n",
    "\n",
    "    return _classifier_circ\n",
    "\n",
    "### Determine a shape of the classifier\n",
    "def classifier_basis_shape(n_wires, n_layers=1):\n",
    "    shape = qml.StronglyEntanglingLayers.shape(n_layers=n_layers, n_wires=n_wires)\n",
    "    return shape"
   ]
  },
  {
   "cell_type": "code",
   "execution_count": 29,
   "id": "6d2f0156-bb94-405d-a115-3c3742963777",
   "metadata": {},
   "outputs": [
    {
     "name": "stdout",
     "output_type": "stream",
     "text": [
      "tensor([[2.7129, 1.4562, 2.5052, 1.0274],\n",
      "        [2.1712, 1.1174, 0.6206, 1.6211],\n",
      "        [1.9172, 0.8760, 0.5968, 0.9686],\n",
      "        [0.5766, 0.8857, 1.1895, 1.7811],\n",
      "        [0.9882, 1.6640, 0.8221, 1.2228]], dtype=torch.float64) \n",
      "\n"
     ]
    },
    {
     "data": {
      "text/plain": [
       "tensor([1.7, 0.5, 0.5], requires_grad=True)"
      ]
     },
     "execution_count": 29,
     "metadata": {},
     "output_type": "execute_result"
    }
   ],
   "source": [
    "### Sample input and weights\n",
    "print(X_train_tens[0:5], '\\n')\n",
    "weights"
   ]
  },
  {
   "cell_type": "code",
   "execution_count": 30,
   "id": "0d3297b9-9f5d-4f38-999d-c9071cea96ac",
   "metadata": {},
   "outputs": [
    {
     "name": "stdout",
     "output_type": "stream",
     "text": [
      "QM shape (60 weights): (5, 4, 3) , Epochs: 60, Shots: 1000, Seed: 2024\n"
     ]
    },
    {
     "data": {
      "image/png": "[encoded data removed]",
      "text/plain": [
       "<Figure size 1400x250 with 1 Axes>"
      ]
     },
     "metadata": {},
     "output_type": "display_data"
    }
   ],
   "source": [
    "### Create and draw a model circuit, exactly what we'll do in Quantum_Auto\n",
    "shape = classifier_basis_shape(n_data, n_layers=n_layers)\n",
    "n_weights = np.prod(shape)\n",
    "weights = torch.rand(shape, requires_grad=True)\n",
    "print(f'QM shape ({n_weights} weights): {shape} , Epochs: {epochs}, Shots: {shots}, Seed: {seed}')\n",
    "\n",
    "model = classifier_basis(wires, n_data, n_layers=n_layers, scaler=scaler) # Try adding: meas_wires=[0, 2]\n",
    "dev = qml.device(sim, wires=wires, shots=shots)\n",
    "model_qc = qml.QNode(model, dev, interface='torch', expansion_strategy='gradient')\n",
    "draw_circuit(model_qc, scale=0.5, title='Simple Q Model', expansion_strategy='device') \\\n",
    "    (X_train_tens[0], weights) # expansion_strategy='device'/'gradient'"
   ]
  },
  {
   "cell_type": "code",
   "execution_count": 31,
   "id": "cd91268e-0d53-4c88-b343-19bea6b242d1",
   "metadata": {},
   "outputs": [
    {
     "name": "stdout",
     "output_type": "stream",
     "text": [
      "tensor([[-0.3540, -0.2460,  0.0500, -0.2420,  0.0740]], dtype=torch.float64,\n",
      "       grad_fn=<StackBackward0>)\n"
     ]
    }
   ],
   "source": [
    "### Apply the circuit to example inputs and weights\n",
    "result = model_qc(X_train_tens[0:5], weights)\n",
    "print(torch.stack((result)));"
   ]
  },
  {
   "cell_type": "markdown",
   "id": "fd7e84f7-ba14-4893-a5c1-e967db699024",
   "metadata": {},
   "source": [
    "### Model training functions"
   ]
  },
  {
   "cell_type": "code",
   "execution_count": 32,
   "id": "222fe23f-0a5b-4d7b-969c-39b9f6cbdad3",
   "metadata": {},
   "outputs": [],
   "source": [
    "class Quantum_Auto(nn.Module):\n",
    "\n",
    "    def __init__(self, sim, n_data, n_layers=1, shots=0, scaler=np.pi):\n",
    "        super(Quantum_Auto, self).__init__()\n",
    "\n",
    "        self.sim = sim\n",
    "        self.n_data = n_data\n",
    "        self.n_wires = n_data\n",
    "        self.n_layers = n_layers\n",
    "        self.wires = list(range(n_wires))\n",
    "        self.shots = shots\n",
    "        self.scaler = scaler\n",
    "\n",
    "        # Create the model\n",
    "        def_qlayer = self.qlayer()\n",
    "        layers = [def_qlayer]\n",
    "        self.model = nn.Sequential(*layers)  \n",
    "\n",
    "    ### Define a quantum layer\n",
    "    def qlayer(self):\n",
    "        \n",
    "        # Define the model weight shapes\n",
    "        tensor_shape = classifier_basis_shape(self.n_data, n_layers=self.n_layers)\n",
    "        weights_shapes = {\"weights\": tensor_shape}\n",
    "\n",
    "        # Define the quantum circuit\n",
    "        model = classifier_basis(self.wires, self.n_data, n_layers=self.n_layers, scaler=self.scaler)\n",
    "        if self.shots == 0:\n",
    "            dev = qml.device(self.sim, wires=self.n_wires)\n",
    "        else:\n",
    "            dev = qml.device(self.sim, wires=self.n_wires, shots=self.shots)\n",
    "        model_qc = qml.QNode(model, dev, interface='torch', expansion_strategy='gradient')\n",
    "\n",
    "        # Turn the circuit into a Torch layer\n",
    "        qlayer = qml.qnn.TorchLayer(model_qc, weight_shapes=weights_shapes)\n",
    "        return qlayer\n",
    "\n",
    "    ### Apply the model to data\n",
    "    def forward(self, x):\n",
    "        y = self.model(x)\n",
    "        return y"
   ]
  },
  {
   "cell_type": "code",
   "execution_count": 33,
   "id": "e28a2f3a-14ea-4980-8cea-d9f5bdc642fb",
   "metadata": {},
   "outputs": [
    {
     "data": {
      "text/plain": [
       "tensor([[-0.1240],\n",
       "        [ 0.0700],\n",
       "        [ 0.1160],\n",
       "        [-0.0060],\n",
       "        [ 0.0940]], dtype=torch.float64, grad_fn=<ViewBackward0>)"
      ]
     },
     "execution_count": 33,
     "metadata": {},
     "output_type": "execute_result"
    }
   ],
   "source": [
    "### Test if the model works as a function\n",
    "test = Quantum_Auto(sim, X_train_tens.shape[1], n_layers=n_layers, shots=shots, scaler=scaler).double().to(torch_device)\n",
    "test(X_train_tens[0:5])"
   ]
  },
  {
   "cell_type": "code",
   "execution_count": 34,
   "id": "8e9a647b-8431-488d-8bcb-fbbb8d788ee5",
   "metadata": {},
   "outputs": [],
   "source": [
    "### Trains the classical AE model\n",
    "\n",
    "def train_quantum(model, X, y, cost_fun, acc_fun, optimizer, epochs, \n",
    "                  log_interv=100, prompt_fract=0.1, acc_prec=0.3, start_time=0):\n",
    "    # global history, acc_hist, opt_params, hist_params\n",
    "    \n",
    "    history = []\n",
    "    acc_hist = []\n",
    "    opt_params = {}\n",
    "    hist_params = []\n",
    "    min_epoch = 0\n",
    "    min_cost = 1000\n",
    "    min_acc = 1000\n",
    "    if start_time == 0: start_time = time.time()\n",
    "    \n",
    "    model.train()\n",
    "    for epoch in range(epochs):\n",
    "        \n",
    "        optimizer.zero_grad()\n",
    "        output = model(X)\n",
    "        cost = cost_fun(output, y)\n",
    "        acc = acc_fun(output, y, prec=acc_prec)\n",
    "        cost.backward()\n",
    "        optimizer.step()\n",
    "\n",
    "        curr_loss = cost.item()\n",
    "        curr_acc = acc\n",
    "        if curr_loss < min_cost: \n",
    "            min_cost = curr_loss\n",
    "            min_epoch = epoch\n",
    "            opt_params = copy.deepcopy(model.state_dict())\n",
    "\n",
    "        if curr_acc < min_acc:\n",
    "            min_acc = curr_acc\n",
    "\n",
    "        if epoch % log_interv == 0:\n",
    "            history.append(curr_loss)\n",
    "            acc_hist.append(curr_acc)\n",
    "            hist_params.append(copy.deepcopy(model.state_dict()))\n",
    "\n",
    "        elapsed = time.time() - start_time\n",
    "        if (prompt_fract == 0) or (epoch % int(prompt_fract*epochs) == 0):\n",
    "            print(f'{epoch: 5d} '+ \\\n",
    "                  f'({elapsed:06.0f} sec): '+ \\\n",
    "                  f'Loss {curr_loss:6.4g}   '+ \\\n",
    "                  f'Acc {curr_acc:6.4g}')\n",
    "            \n",
    "    return history, acc_hist, opt_params, hist_params, (min_epoch, min_cost)\n"
   ]
  },
  {
   "cell_type": "markdown",
   "id": "cf3cfdff-9c5a-456d-b1cb-b23770867c12",
   "metadata": {},
   "source": [
    "### Model creation and training run"
   ]
  },
  {
   "cell_type": "code",
   "execution_count": 35,
   "id": "165dbc0f-b462-47bf-8b98-609bfa677ad5",
   "metadata": {},
   "outputs": [
    {
     "data": {
      "text/plain": [
       "Quantum_Auto(\n",
       "  (model): Sequential(\n",
       "    (0): <Quantum Torch Layer: func=_classifier_circ>\n",
       "  )\n",
       ")"
      ]
     },
     "execution_count": 35,
     "metadata": {},
     "output_type": "execute_result"
    }
   ],
   "source": [
    "### Set random seed\n",
    "torch.manual_seed(seed)\n",
    "torch.cuda.manual_seed(seed)\n",
    "torch.backends.cudnn.deterministic = True\n",
    "torch.backends.cudnn.benchmark = False\n",
    "\n",
    "### Create a model\n",
    "q_auto = Quantum_Auto(sim, X_train_tens.shape[1], n_layers=n_layers, shots=shots, scaler=scaler).double().to(torch_device)\n",
    "\n",
    "### Loss and optimiser\n",
    "\n",
    "cost_fun = nn.MSELoss()\n",
    "# cost_fun = nn.L1Loss() # Very poor results\n",
    "\n",
    "# opt = optim.SGD(model.parameters(),lr=0.01,weight_decay=1e-5)\n",
    "# opt = torch.optim.Adam(q_auto.parameters())\n",
    "opt = torch.optim.NAdam(q_auto.parameters(), lr=0.01)\n",
    "\n",
    "### Show \n",
    "q_auto.eval()"
   ]
  },
  {
   "cell_type": "code",
   "execution_count": 36,
   "id": "b87df9a5-21a3-4559-b524-291e560fa878",
   "metadata": {},
   "outputs": [
    {
     "name": "stdout",
     "output_type": "stream",
     "text": [
      "    0 (000008 sec): Loss  1.008   Acc 0.4161\n",
      "    3 (000032 sec): Loss 0.8094   Acc 0.4526\n",
      "    6 (000055 sec): Loss 0.6724   Acc 0.4672\n",
      "    9 (000079 sec): Loss 0.5308   Acc 0.4672\n",
      "   12 (000103 sec): Loss 0.4326   Acc 0.4672\n",
      "   15 (000127 sec): Loss 0.3552   Acc 0.4672\n",
      "   18 (000151 sec): Loss 0.3033   Acc 0.4672\n",
      "   21 (000174 sec): Loss 0.2623   Acc 0.4818\n",
      "   24 (000198 sec): Loss 0.2402   Acc  0.562\n",
      "   27 (000222 sec): Loss 0.2192   Acc 0.6496\n",
      "   30 (000246 sec): Loss 0.2058   Acc 0.7007\n",
      "   33 (000270 sec): Loss 0.1922   Acc 0.7226\n",
      "   36 (000294 sec): Loss 0.1874   Acc 0.7664\n",
      "   39 (000318 sec): Loss 0.1757   Acc 0.7737\n",
      "   42 (000342 sec): Loss 0.1689   Acc 0.7956\n",
      "   45 (000365 sec): Loss  0.169   Acc 0.7956\n",
      "   48 (000389 sec): Loss 0.1617   Acc 0.8175\n",
      "   51 (000413 sec): Loss 0.1611   Acc 0.8321\n",
      "   54 (000437 sec): Loss 0.1549   Acc 0.8394\n",
      "   57 (000462 sec): Loss 0.1565   Acc 0.8175\n",
      "\n",
      "cpu+lightning.qubit Fit (137 samples, 4 features, 60 params, 60 epochs): 0.15092 min cost @ iter# 59, 477.36 sec\n",
      "\n"
     ]
    }
   ],
   "source": [
    "### Train the model\n",
    "# epochs = 20\n",
    "# log_interv = 1\n",
    "# prompt_fract = 0\n",
    "\n",
    "start_time = time.time()\n",
    "\n",
    "history, acc_history, opt_params, hist_params, opt_point = \\\n",
    "    train_quantum(q_auto, X_train_tens, y_train_tens, cost_fun, accuracy, opt, epochs, \n",
    "                  log_interv=log_interv, prompt_fract=prompt_fract, acc_prec=acc_prec)\n",
    "\n",
    "elapsed = time.time() - start_time\n",
    "\n",
    "# Print run statistics\n",
    "shape = classifier_basis_shape(n_data, n_layers=n_layers)\n",
    "n_weights = np.prod(shape)\n",
    "\n",
    "print(f'\\n'+\n",
    "      f'{torch_device}+{sim} Fit ('+\n",
    "      f'{y_train_tens.shape[0]} samples, '+\n",
    "      f'{X_train_tens.shape[1]} features, '+\n",
    "      f'{count_params(q_auto)} params, '+\n",
    "      f'{epochs} epochs): '+\n",
    "      f'{round(opt_point[1], 5)} min cost @ iter# {opt_point[0]}, '+\n",
    "      f'{elapsed:0.2f} sec'+\n",
    "      f'\\n'\n",
    "     )"
   ]
  },
  {
   "cell_type": "code",
   "execution_count": 37,
   "id": "babe7d0b-1b07-4913-a9a1-5ca2ded76756",
   "metadata": {},
   "outputs": [
    {
     "name": "stdout",
     "output_type": "stream",
     "text": [
      "Training acc=0.8321,loss=0.1504\n"
     ]
    }
   ],
   "source": [
    "### Training loss\n",
    "q_auto.load_state_dict(opt_params)\n",
    "pred = q_auto(X_train_tens)\n",
    "print(f'Training acc={nnp.round(accuracy(pred, y_train_tens, prec=0.5), 4)},'+\\\n",
    "      f'loss={nnp.round(square_loss(pred, y_train_tens), 4)}')"
   ]
  },
  {
   "cell_type": "code",
   "execution_count": 38,
   "id": "e778d717-170f-4d9f-ba5c-8fc90f83f152",
   "metadata": {},
   "outputs": [
    {
     "name": "stdout",
     "output_type": "stream",
     "text": [
      "Training acc=0.8235,loss=0.154\n"
     ]
    }
   ],
   "source": [
    "### Testing accuracy at the point of the lowest loss\n",
    "q_auto.load_state_dict(opt_params)\n",
    "pred = q_auto(X_test_tens)\n",
    "print(f'Training acc={nnp.round(accuracy(pred, y_test_tens, prec=0.5), 4)},'+\\\n",
    "      f'loss={nnp.round(square_loss(pred, y_test_tens), 4)}')"
   ]
  },
  {
   "cell_type": "code",
   "execution_count": 39,
   "id": "77d27c8f-8dbc-4548-8fdd-f8dbfd2c5417",
   "metadata": {},
   "outputs": [
    {
     "data": {
      "image/png": "[encoded data removed]",
      "text/plain": [
       "<Figure size 800x400 with 1 Axes>"
      ]
     },
     "metadata": {},
     "output_type": "display_data"
    }
   ],
   "source": [
    "### Plot training cost\n",
    "meas_plot(history, meas='cost', task='min',\n",
    "                  rcParams=(8, 4), log_interv=log_interv,\n",
    "                  backplot=False, back_color='linen', smooth_weight=0.5)"
   ]
  },
  {
   "cell_type": "code",
   "execution_count": 42,
   "id": "d7e83e38-8e68-4feb-bf96-3ad9f5435448",
   "metadata": {},
   "outputs": [
    {
     "data": {
      "image/png": "[encoded data removed]",
      "text/plain": [
       "<Figure size 800x400 with 1 Axes>"
      ]
     },
     "metadata": {},
     "output_type": "display_data"
    }
   ],
   "source": [
    "### Plot training accuracy\n",
    "meas_plot(acc_history, meas='accuracy', task='max',\n",
    "                  rcParams=(8, 4), log_interv=log_interv, xlim=(0, epochs+1), ylim=(0.4, 0.9),\n",
    "                  backplot=True, back_color='linen', smooth_weight=0.4)"
   ]
  },
  {
   "cell_type": "markdown",
   "id": "2068997f-64fe-4cb0-9f58-cda125473a08",
   "metadata": {},
   "source": [
    "## What's next?\n",
    "*At this point you can improve this notebook by performing the following tasks:*\n",
    "\n",
    "- Save the history of loss and accuracy into a resource folder\n",
    "- Save all model parameters kept during the model training into a resource folder\n",
    "- Calculate, plot and archive MSE and accuracy scores for test data partition\n",
    "- Play with the smoothing factor in all plots to gain insight into volatility of your scores\n",
    "- Analyse all accumulated data and report your observations, reflect on your learning\n",
    "\n",
    "*As an extension:*\n",
    "\n",
    "- Prepare an Automobile data set, a model and its scores, to predict car price (exclude symboling which is a variable dependent on price)\n",
    "- Repeat the entire process for the \"sonar\" data set (link included above)\n",
    "- Enjoy learning predictive analytics using classical and quantum ML models"
   ]
  },
  {
   "cell_type": "markdown",
   "id": "f2c6c276-c691-4591-bc0b-58cc75c16445",
   "metadata": {},
   "source": [
    "## System in use"
   ]
  },
  {
   "cell_type": "code",
   "execution_count": 43,
   "id": "b7dd04a7-3c57-4aab-8b4d-337597353bcf",
   "metadata": {},
   "outputs": [
    {
     "name": "stdout",
     "output_type": "stream",
     "text": [
      "PennyLane                     0.38.0\n",
      "PennyLane_Lightning           0.38.0\n",
      "PennyLane_Lightning_GPU       0.38.0\n",
      "torch                         2.1.0\n",
      "torchaudio                    2.1.0\n",
      "torchsummary                  1.5.1\n",
      "torchvision                   0.16.0\n"
     ]
    }
   ],
   "source": [
    "!pip list | grep -e PennyLane -e torch"
   ]
  }
 ],
 "metadata": {
  "kernelspec": {
   "display_name": "Python 3 (ipykernel)",
   "language": "python",
   "name": "python3"
  },
  "language_info": {
   "codemirror_mode": {
    "name": "ipython",
    "version": 3
   },
   "file_extension": ".py",
   "mimetype": "text/x-python",
   "name": "python",
   "nbconvert_exporter": "python",
   "pygments_lexer": "ipython3",
   "version": "3.10.9"
  }
 },
 "nbformat": 4,
 "nbformat_minor": 5
}
